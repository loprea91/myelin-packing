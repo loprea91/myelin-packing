{
 "cells": [
  {
   "cell_type": "markdown",
   "id": "a9490fbd",
   "metadata": {},
   "source": [
    "# Elliptical axon simulation using PyMunk"
   ]
  },
  {
   "cell_type": "markdown",
   "id": "5f698d80",
   "metadata": {
    "tags": []
   },
   "source": [
    "# Importing"
   ]
  },
  {
   "cell_type": "code",
   "execution_count": 2,
   "id": "6d9d74c9",
   "metadata": {
    "tags": []
   },
   "outputs": [
    {
     "name": "stdout",
     "output_type": "stream",
     "text": [
      "pygame 2.5.2 (SDL 2.28.3, Python 3.10.8)\n",
      "Hello from the pygame community. https://www.pygame.org/contribute.html\n"
     ]
    }
   ],
   "source": [
    "import pygame                                   # Display\n",
    "import pymunk                                   # Physics engine\n",
    "import random\n",
    "import matplotlib.pyplot as plt\n",
    "import copy\n",
    "import numpy as np\n",
    "from math import prod\n",
    "from scipy.spatial import ConvexHull, Delaunay\n",
    "import pandas as pd\n",
    "import matplotlib.colors\n",
    "import scipy.interpolate\n",
    "from sklearn.linear_model import LinearRegression\n",
    "from scipy import stats"
   ]
  },
  {
   "cell_type": "markdown",
   "id": "d2aac2e7",
   "metadata": {
    "tags": []
   },
   "source": [
    "# Initialization and set-up"
   ]
  },
  {
   "cell_type": "code",
   "execution_count": 3,
   "id": "1d0c75af",
   "metadata": {
    "tags": []
   },
   "outputs": [],
   "source": [
    "W, H = (2000, 2000)                               # Set length and width of display\n",
    "dt = 0.1                                       # Frames per second to update screen\n",
    "T = 1000                                       # total simulation time\n",
    "bbox_size = 2000\n",
    "bbox = int((W-bbox_size)/2 - 1), int((H-bbox_size)/2 - 1)\n",
    "gravityStrength = 1.0e-1\n",
    "random.seed(2)"
   ]
  },
  {
   "cell_type": "markdown",
   "id": "89d44189",
   "metadata": {
    "tags": []
   },
   "source": [
    "### Helper functions"
   ]
  },
  {
   "cell_type": "code",
   "execution_count": 4,
   "id": "8af88a69",
   "metadata": {
    "tags": []
   },
   "outputs": [],
   "source": [
    "# This is necessary because were using pygame to display the simulation and pygame needs integer coordinates with opposite y-axis to pymunk\n",
    "def convert_coords(point):\n",
    "    return (int(point[0]), int(H - point[1]))\n",
    "\n",
    "# Linear 'gravitaional' attraction to the center of the domain\n",
    "def gravity_func(body, gravity, damping, dt):\n",
    "    g = (\n",
    "        (body.position - pymunk.Vec2d(W/2, H/2)) * -gravityStrength\n",
    "        )\n",
    "    pymunk.Body.update_velocity(body, g, .99, dt)\n",
    "\n",
    "# Produces ellipse with n vertices \n",
    "def ellipse_vts(a, b):\n",
    "    n = 50\n",
    "    points = []\n",
    "    for i in range(0, n+1):\n",
    "        Theta = np.pi/2 * i /  n\n",
    "        Fi =  np.pi/2 - np.arctan(np.tan(Theta) * a/b)\n",
    "        x = round(a * np.cos(Fi))\n",
    "        y = round(b * np.sin(Fi))\n",
    "        points.extend([(x,y), (-x, y), (x, -y), (-x, -y)])\n",
    "    return list(set(points))\n",
    "\n",
    "# Makes mask of convex hull\n",
    "def poly2mask(hull):\n",
    "    if not isinstance(hull, Delaunay):\n",
    "        hull = Delaunay(hull)\n",
    "    x, y = np.meshgrid(np.arange(W), np.arange(H))\n",
    "    x, y = x.flatten(), y.flatten()\n",
    "    pts = np.vstack((y, x)).T\n",
    "    bool_img = hull.find_simplex(pts) >= 0\n",
    "    bool_img = bool_img.reshape((W, H)) * 1\n",
    "    return bool_img"
   ]
  },
  {
   "cell_type": "markdown",
   "id": "847ebc37",
   "metadata": {
    "tags": []
   },
   "source": [
    "# Object creation"
   ]
  },
  {
   "cell_type": "code",
   "execution_count": 5,
   "id": "2b2af14b",
   "metadata": {
    "tags": []
   },
   "outputs": [],
   "source": [
    "class Axon_ellipse():\n",
    "    def __init__(self, x0, y0, a, b, g_rat, space):\n",
    "        vts = ellipse_vts(a, b)\n",
    "        self.n_vts = len(vts)\n",
    "        self.body = pymunk.Body()\n",
    "        self.body.position = x0, y0\n",
    "        self.shape = pymunk.Poly(self.body, vts, radius=0)\n",
    "        self.shape.density = 1\n",
    "        self.shape.elasticity = 0.25\n",
    "        self.shape.friction = 0.75\n",
    "        self.body.velocity_func = gravity_func\n",
    "        self.body.angle = random.uniform(0, 2 * np.pi)\n",
    "        self.g_rat = g_rat\n",
    "        space.add(self.body, self.shape)\n",
    "\n",
    "    def draw(self, display):\n",
    "        vts = []\n",
    "        vts_s = []\n",
    "        v_list = self.shape.get_vertices()\n",
    "        for i in range(len(v_list)-1):\n",
    "            if i == 0:\n",
    "                v_temp = v_list[-1] - v_list[1]\n",
    "                v_temp = v_temp.perpendicular_normal()\n",
    "                v_s = v_list[i] - v_temp * self.g_rat\n",
    "            elif i == self.n_vts:\n",
    "                v_temp = v_list[-2] - v_list[0]\n",
    "                v_temp = v_temp.perpendicular_normal()\n",
    "                v_s = v_list[i] - v_temp * self.g_rat\n",
    "            else:\n",
    "                v_temp = v_list[i-1] - v_list[i+1]\n",
    "                v_temp = v_temp.perpendicular_normal()\n",
    "                v_s = v_list[i] - v_temp * self.g_rat\n",
    "            xv_s, yv_s = v_s.rotated(self.body.angle)\n",
    "            xv, yv = v_list[i].rotated(self.body.angle)\n",
    "            posn = self.body.position\n",
    "            xv, yv = convert_coords((xv, yv) + posn)\n",
    "            xv_s, yv_s = convert_coords((xv_s, yv_s) + posn)\n",
    "            vts.append((xv, yv))\n",
    "            vts_s.append((xv_s, yv_s))\n",
    "        pygame.draw.polygon(display, (255, 255, 255), vts)\n",
    "        pygame.draw.polygon(display, (128, 128, 128), vts_s)\n",
    "        return vts"
   ]
  },
  {
   "cell_type": "markdown",
   "id": "d1020532",
   "metadata": {
    "tags": []
   },
   "source": [
    "# Simulation function"
   ]
  },
  {
   "cell_type": "code",
   "execution_count": 6,
   "id": "29e39b11",
   "metadata": {
    "tags": []
   },
   "outputs": [],
   "source": [
    "def ellipse_sim(N, a, aspect, g_rat):   \n",
    "    vts = []\n",
    "    pygame.init()                                   \n",
    "    space = pymunk.Space()                          \n",
    "    axon_list = []\n",
    "    display = pygame.display.set_mode((W, H))      \n",
    "    for axon in range(N):\n",
    "        rand = [random.uniform(0.1, 0.9) for i in range(2)]\n",
    "        axon_list.append(Axon_ellipse(rand[0] * W, rand[1] * H , a , a * aspect , a * g_rat, space))\n",
    "    for t in range(T):                                  \n",
    "        for event in pygame.event.get():     \n",
    "            if event.type == pygame.QUIT:\n",
    "                return    \n",
    "        if t == T - 1:\n",
    "            display.fill((0, 0, 0))    \n",
    "            for axon in axon_list:\n",
    "                vts_n = axon.draw(display)\n",
    "                vts.append(vts_n)\n",
    "            pygame.display.update()\n",
    "            image = copy.deepcopy(pygame.surfarray.pixels2d(display))  #[bbox[0]:bbox[0] + bbox_size, bbox[1]:bbox[1] + bbox_size])\n",
    "            return image, np.concatenate(np.array(vts))\n",
    "        space.step(dt)"
   ]
  },
  {
   "cell_type": "code",
   "execution_count": 7,
   "id": "11df1aaf",
   "metadata": {
    "tags": []
   },
   "outputs": [
    {
     "ename": "NameError",
     "evalue": "name 'grats' is not defined",
     "output_type": "error",
     "traceback": [
      "\u001b[1;31m---------------------------------------------------------------------------\u001b[0m",
      "\u001b[1;31mNameError\u001b[0m                                 Traceback (most recent call last)",
      "Cell \u001b[1;32mIn[7], line 3\u001b[0m\n\u001b[0;32m      1\u001b[0m fig \u001b[38;5;241m=\u001b[39m plt\u001b[38;5;241m.\u001b[39mfigure(figsize \u001b[38;5;241m=\u001b[39m (\u001b[38;5;241m10\u001b[39m,\u001b[38;5;241m10\u001b[39m))\n\u001b[0;32m      2\u001b[0m ax \u001b[38;5;241m=\u001b[39m fig\u001b[38;5;241m.\u001b[39madd_subplot(projection\u001b[38;5;241m=\u001b[39m\u001b[38;5;124m'\u001b[39m\u001b[38;5;124m3d\u001b[39m\u001b[38;5;124m'\u001b[39m)\n\u001b[1;32m----> 3\u001b[0m ax\u001b[38;5;241m.\u001b[39mplot_surface(\u001b[43mgrats\u001b[49m,eccs, MVF,\n\u001b[0;32m      4\u001b[0m                  linewidth\u001b[38;5;241m=\u001b[39m\u001b[38;5;241m0\u001b[39m, antialiased\u001b[38;5;241m=\u001b[39m\u001b[38;5;28;01mTrue\u001b[39;00m, shade \u001b[38;5;241m=\u001b[39m \u001b[38;5;28;01mTrue\u001b[39;00m, alpha \u001b[38;5;241m=\u001b[39m \u001b[38;5;241m.85\u001b[39m, color \u001b[38;5;241m=\u001b[39m\u001b[38;5;124m'\u001b[39m\u001b[38;5;124mred\u001b[39m\u001b[38;5;124m'\u001b[39m)\n\u001b[0;32m      5\u001b[0m ax\u001b[38;5;241m.\u001b[39mset_xlabel(\u001b[38;5;124m'\u001b[39m\u001b[38;5;124mg ratio\u001b[39m\u001b[38;5;124m'\u001b[39m)\n\u001b[0;32m      6\u001b[0m ax\u001b[38;5;241m.\u001b[39mset_ylabel(\u001b[38;5;124m'\u001b[39m\u001b[38;5;124mAspect ratio\u001b[39m\u001b[38;5;124m'\u001b[39m)\n",
      "\u001b[1;31mNameError\u001b[0m: name 'grats' is not defined"
     ]
    },
    {
     "data": {
      "image/png": "[encoded data removed]",
      "text/plain": [
       "<Figure size 1000x1000 with 1 Axes>"
      ]
     },
     "metadata": {},
     "output_type": "display_data"
    }
   ],
   "source": [
    "fig = plt.figure(figsize = (10,10))\n",
    "ax = fig.add_subplot(projection='3d')\n",
    "ax.plot_surface(grats,eccs, MVF,\n",
    "                 linewidth=0, antialiased=True, shade = True, alpha = .85, color ='red')\n",
    "ax.set_xlabel('g ratio')\n",
    "ax.set_ylabel('Aspect ratio')\n",
    "ax.set_zlabel('MVF')\n",
    "ax.view_init(45, 90)"
   ]
  },
  {
   "cell_type": "markdown",
   "id": "aab02508",
   "metadata": {},
   "source": [
    "### Data loading and processing"
   ]
  },
  {
   "cell_type": "code",
   "execution_count": null,
   "id": "72a34c95",
   "metadata": {},
   "outputs": [],
   "source": [
    "data = pd.read_excel('data_extra_columns.xlsx')\n",
    "'''\n",
    "data.drop(data[data.gratio_peri > 1].index, inplace=True)\n",
    "data.drop(data[(data.axon_diam_peri < 0.5) | (data.axon_diam_peri > 8)].index, inplace=True) # removing cells that are too small or big\n",
    "''';"
   ]
  },
  {
   "cell_type": "code",
   "execution_count": null,
   "id": "2ced9292",
   "metadata": {
    "tags": []
   },
   "outputs": [],
   "source": [
    "'''data['ar'] = np.sqrt((1 - (data.eccentricity ** 2)))\n",
    "''';"
   ]
  },
  {
   "cell_type": "code",
   "execution_count": null,
   "id": "f6effc78",
   "metadata": {},
   "outputs": [],
   "source": [
    "'''mbp_per = {1: 160, 2: 100, 3: 58, 4: 63, 5: 63, 6: 28, 7: 15}\n",
    "data['mbp'] = pd.Series([mbp_per[x] for x in data.line_num], index=data.index)\n",
    "'''"
   ]
  },
  {
   "cell_type": "code",
   "execution_count": null,
   "id": "e1707e65",
   "metadata": {},
   "outputs": [],
   "source": [
    "'''# Interpolate surface generated with algorithm above in order to obtain MVF measure for data\n",
    "data['mvf'] = scipy.interpolate.griddata((grats.flatten(), eccs.flatten()), MVF.flatten(), (data.gratio_peri_2, data.ar), method='cubic')\n",
    "''';"
   ]
  },
  {
   "cell_type": "code",
   "execution_count": null,
   "id": "58fa10e5",
   "metadata": {},
   "outputs": [],
   "source": [
    "'''data['cost'] = cost_fun(data.axon_diam_peri, data.gratio_peri_2, data.line)\n",
    "data.fillna(data.mean(), inplace=True)  # Drop NaNs\n",
    "''';"
   ]
  },
  {
   "cell_type": "code",
   "execution_count": null,
   "id": "d244368f",
   "metadata": {},
   "outputs": [],
   "source": [
    "data['mvf_bins'] = pd.cut(data.mvf, np.arange(0.15,0.75,0.05))"
   ]
  },
  {
   "cell_type": "code",
   "execution_count": null,
   "id": "cbca7c37",
   "metadata": {},
   "outputs": [],
   "source": [
    "data"
   ]
  },
  {
   "cell_type": "code",
   "execution_count": null,
   "id": "8ab10665",
   "metadata": {},
   "outputs": [],
   "source": [
    "matplotlib.pyplot.close('all')"
   ]
  },
  {
   "cell_type": "code",
   "execution_count": null,
   "id": "b2b7a55b",
   "metadata": {},
   "outputs": [],
   "source": [
    "data.to_excel('data_extra_columns.xlsx')"
   ]
  },
  {
   "cell_type": "code",
   "execution_count": null,
   "id": "c337ca1e",
   "metadata": {},
   "outputs": [],
   "source": [
    "plt.scatter(data[(data.line == 'M3M5KO') & (data.age == 'P30') & (data.region == 'CST')].gratio_peri_2, data[(data.line == 'M3M5KO') & (data.age == 'P30') & (data.region == 'CST')].mvf, label='P30')\n",
    "plt.show()"
   ]
  },
  {
   "cell_type": "code",
   "execution_count": null,
   "id": "947cce35",
   "metadata": {},
   "outputs": [],
   "source": [
    "plt.scatter(data[(data.line == 'M3M5KO') & (data.age == 'P90') & (data.region == 'CST')].gratio_peri_2, data[(data.line == 'M3M5KO') & (data.age == 'P90') & (data.region == 'CST')].mvf, label='P90')\n",
    "plt.legend()\n",
    "plt.show()\n"
   ]
  },
  {
   "cell_type": "code",
   "execution_count": null,
   "id": "987d2a88",
   "metadata": {},
   "outputs": [],
   "source": [
    "plt.legend()"
   ]
  },
  {
   "cell_type": "code",
   "execution_count": null,
   "id": "45c92591",
   "metadata": {},
   "outputs": [],
   "source": [
    "plt.scatter(data[(data.line == 'M3M5KO') & (data.age == 'P400') & (data.region == 'CST')].gratio_peri_2, data[(data.line == 'M3M5KO') & (data.age == 'P400') & (data.region == 'CST')].mvf)"
   ]
  },
  {
   "cell_type": "code",
   "execution_count": null,
   "id": "7215c062",
   "metadata": {},
   "outputs": [],
   "source": [
    "data[data.age == 'P400'].line"
   ]
  },
  {
   "cell_type": "markdown",
   "id": "4204a188",
   "metadata": {
    "tags": []
   },
   "source": [
    "### Plotting MVF"
   ]
  },
  {
   "cell_type": "code",
   "execution_count": null,
   "id": "b3c041c4",
   "metadata": {
    "jupyter": {
     "source_hidden": true
    },
    "tags": []
   },
   "outputs": [],
   "source": [
    "colormap = plt.get_cmap(\"plasma\")\n",
    "norm = matplotlib.colors.Normalize(vmin=0, vmax=0.6)\n",
    "sm = plt.cm.ScalarMappable(cmap=colormap, norm=norm)"
   ]
  },
  {
   "cell_type": "code",
   "execution_count": null,
   "id": "2c6902ae",
   "metadata": {
    "jupyter": {
     "source_hidden": true
    }
   },
   "outputs": [],
   "source": [
    "print((np.mean(data.gratio_peri_2[(data.gratio_peri_2 > 0.65) & (data.region == 'VM') & (data.line == 'M3M5KO') & (data.age == 'P30')]),\n",
    "np.mean(data.ar[(data.gratio_peri_2 > 0.65) & (data.region == 'VM') & (data.line == 'M3M5KO') & (data.age == 'P30')])))\n",
    "print((np.mean(data.gratio_peri_2[(data.gratio_peri_2 > 0.65) & (data.region == 'VM') & (data.line == 'M3M5KO') & (data.age == 'P90')]),\n",
    "np.mean(data.ar[(data.gratio_peri_2 > 0.65) & (data.region == 'VM') & (data.line == 'M3M5KO') & (data.age == 'P90')])))\n",
    "(np.mean(data.gratio_peri_2[(data.gratio_peri_2 > 0.65) & (data.region == 'VM') & (data.line == 'M3M5KO') & (data.age == 'P400')]),\n",
    "np.mean(data.ar[(data.gratio_peri_2 > 0.65) & (data.region == 'VM') & (data.line == 'M3M5KO') & (data.age == 'P400')]))"
   ]
  },
  {
   "cell_type": "code",
   "execution_count": null,
   "id": "001fbe4b-34b8-4bb5-9e0b-42aaffd0262a",
   "metadata": {
    "jp-MarkdownHeadingCollapsed": true,
    "jupyter": {
     "source_hidden": true
    },
    "tags": []
   },
   "outputs": [],
   "source": [
    "X, Y = np.mgrid[0.65:0.9:100j, 0.3:0.9:100j]\n",
    "\n",
    "positions = np.vstack([X.ravel(), Y.ravel()])\n",
    "\n",
    "values1 = np.vstack([data.gratio_peri_2[(data.gratio_peri_2 > 0.65) & (data.region == 'VM') & (data.line == 'M3M5KO') & (data.age == 'P30')],\n",
    "                    data.ar[(data.gratio_peri_2 > 0.65) & (data.region == 'VM') & (data.line == 'M3M5KO') & (data.age == 'P30')]])\n",
    "values2 = np.vstack([data.gratio_peri_2[(data.gratio_peri_2 > 0.65) & (data.region == 'VM') & (data.line == 'M3M5KO') & (data.age == 'P90')],\n",
    "                     data.ar[(data.gratio_peri_2 > 0.65) & (data.region == 'VM') & (data.line == 'M3M5KO') & (data.age == 'P90')]])\n",
    "values3 = np.vstack([data.gratio_peri_2[(data.gratio_peri_2 > 0.65) & (data.region == 'VM') & (data.line == 'M3M5KO') & (data.age == 'P400')],\n",
    "                     data.ar[(data.gratio_peri_2 > 0.65) & (data.region == 'VM') & (data.line == 'M3M5KO') & (data.age == 'P400')]])\n",
    "\n",
    "kernel1 = stats.gaussian_kde(values1)\n",
    "kernel2 = stats.gaussian_kde(values2)\n",
    "kernel3 = stats.gaussian_kde(values3)\n",
    "\n",
    "Z1 = np.reshape(kernel1(positions).T, X.shape)\n",
    "Z2 = np.reshape(kernel2(positions).T, X.shape)\n",
    "Z3 = np.reshape(kernel3(positions).T, X.shape)\n",
    "\n",
    "\n",
    "fig_cont = plt.figure(figsize = (25,10))\n",
    "\n",
    "plt.rcParams['font.size'] = '18'\n",
    "cont1 = plt.contour(grats,eccs, MVF, np.arange(0,0.65,0.05), linewidths = 5,cmap='plasma')\n",
    "#plt.colorbar(shrink = 0.4, aspect = 15, label='MAF', pad = 0.02)\n",
    "#scat2 = plt.scatter(data.gratio_peri_2[(data.gratio_peri_2 > 0.65) & (data.region == 'Gracilis') & (data.line == 'WT')], \n",
    "#                    data.ar[(data.gratio_peri_2 > 0.65) & (data.region == 'Gracilis') & (data.line == 'WT')], \n",
    "#                    c=colormap(norm(data.mbp[(data.gratio_peri_2 > 0.65) & (data.region == 'Gracilis') & (data.line == 'WT')]), alpha=1))\n",
    "\n",
    "\n",
    "plt.imshow(np.rot90(Z1), cmap=plt.cm.Blues, extent=[0.65, 0.9, 0.3, 0.9], aspect=0.4, alpha=0)\n",
    "#cbar2 = plt.colorbar( shrink = 0.4, aspect = 15, label='Density (wildtype)', pad =-0.08) \n",
    "\n",
    "#plt.imshow(np.rot90(Z2), cmap=plt.cm.Greens, extent=[0.65, 0.9, 0.3, 0.9], aspect=0.4, alpha=0.1)\n",
    "\n",
    "#plt.imshow(np.rot90(Z2), cmap=plt.cm.Reds, extent=[0.65, 0.9, 0.3, 0.9], aspect=0.4, alpha=0.1)\n",
    "\n",
    "plt.text(0.8429922283851089, 0.5901422791297479,'P90',weight='bold')\n",
    "plt.text(0.850796180220818, 0.6058353854090531,'P30',weight='bold')\n",
    "plt.text(0.8188459926313248, 0.5271609619619261,'P400',weight='bold')\n",
    "         \n",
    "\n",
    "plt.xlim((0.65, 0.9))\n",
    "plt.ylim((0.3, 0.9))\n",
    "cbar = plt.colorbar(sm, shrink = 0.4, aspect = 15, label='MAF', pad =0.01)\n",
    "cbar2.set_ticks((0,8.625,17.25))\n",
    "cbar2.ax.set_yticklabels(['0','0.5', '1'])\n",
    "plt.xlabel('g ratio', fontsize = 18)\n",
    "plt.ylabel('Aspect ratio', fontsize = 18)\n",
    "plt.tight_layout()\n",
    "plt.savefig('test.png')"
   ]
  },
  {
   "cell_type": "code",
   "execution_count": null,
   "id": "e9bef346",
   "metadata": {},
   "outputs": [],
   "source": [
    "test_agg = data[(data.gratio_peri_2 > 0.65) & ~data.mvf_bins.isna()].groupby(\"line\").agg([np.mean, stats.sem])\n",
    "test_agg = test_agg.mvf"
   ]
  },
  {
   "cell_type": "code",
   "execution_count": null,
   "id": "198b6cd9",
   "metadata": {},
   "outputs": [],
   "source": [
    "data[(data.line.isin(('WT', 'M3KO', 'M5KO','M3M5KO','M1EM3M5KO'))) & (data.region == 'VM')].groupby(['line','mvf_bins']).n.count().unstack('mvf_bins').plot.bar(stacked = True, figsize=(10,8), rot = 35)\n",
    "plt.legend(ncol=5,prop={'size': 10})\n",
    "plt.xlabel('Line')\n",
    "plt.ylabel('Count')\n",
    "plt.ylim(0,1800)\n",
    "plt.show()\n"
   ]
  },
  {
   "cell_type": "code",
   "execution_count": null,
   "id": "451f3e3b",
   "metadata": {},
   "outputs": [],
   "source": [
    "data2"
   ]
  },
  {
   "cell_type": "code",
   "execution_count": null,
   "id": "55983cc5",
   "metadata": {},
   "outputs": [],
   "source": [
    "plt.figure(figsize=(20,10))\n",
    "data2 = data.groupby(['line','mvf_bins']).size()\n",
    "data2.pivot_table(index = 'line', columns = 'mvf_bins' , values = 'counts').plot(kind = 'bar', stacked = True)"
   ]
  },
  {
   "cell_type": "code",
   "execution_count": null,
   "id": "1d468797",
   "metadata": {},
   "outputs": [],
   "source": [
    "test_agg[test_agg.index.isin(('WT', 'M3KO', 'M5KO','M3M5KO','M1EM3M5KO'))].plot(kind='bar', y = 'mean', yerr = 'sem', legend=False,capsize=5,rot=35)\n",
    "plt.xlabel('Line')\n",
    "plt.ylabel('Average MAF')\n",
    "plt.ticklabels(('100','63','63','28','15'))"
   ]
  },
  {
   "cell_type": "code",
   "execution_count": null,
   "id": "72f6e08b",
   "metadata": {},
   "outputs": [],
   "source": [
    "temp_agg = data[(data.gratio_peri_2 > 0.65) & (data.region == 'CST') & ~data.mvf_bins.isna()].groupby(\"mbp\").agg([np.mean, stats.sem])\n",
    "temp_agg = temp_agg.cost"
   ]
  },
  {
   "cell_type": "code",
   "execution_count": null,
   "id": "8b17eea7",
   "metadata": {},
   "outputs": [],
   "source": [
    "compare_plot = pd.read_csv('plot_data.csv')"
   ]
  },
  {
   "cell_type": "code",
   "execution_count": null,
   "id": "7e938d2a",
   "metadata": {},
   "outputs": [],
   "source": [
    "key"
   ]
  },
  {
   "cell_type": "code",
   "execution_count": null,
   "id": "eda44c9e",
   "metadata": {},
   "outputs": [],
   "source": [
    "test_agg = test_agg.iloc[key.argsort()]"
   ]
  },
  {
   "cell_type": "code",
   "execution_count": null,
   "id": "5c7e32cc",
   "metadata": {},
   "outputs": [],
   "source": [
    "lines = ['WT','M3KO', 'M5KO', 'M3M5KO', 'M1EM3M5KO']\n",
    "mapping = {ln: i for i, ln in enumerate(lines)}\n",
    "key = test_agg.index.map(mapping)"
   ]
  },
  {
   "cell_type": "code",
   "execution_count": null,
   "id": "b13764a4",
   "metadata": {},
   "outputs": [],
   "source": [
    "compare_plot.iloc[key.argsort()].plot(kind='bar', y = 'mean', yerr = 'sem', legend=False, rot = 0, capsize=3)\n",
    "plt.xlabel('Mouse line')\n",
    "plt.ylabel('MAF (% wildtype)')\n",
    "ax = plt.gca()\n",
    "ax.spines[[\"right\", \"top\"]].set_visible(False)\n",
    "plt.legend([\"Data\", \"Simulation\"])"
   ]
  },
  {
   "cell_type": "code",
   "execution_count": null,
   "id": "5cb89c2c",
   "metadata": {
    "tags": []
   },
   "outputs": [],
   "source": [
    "err_plot = temp_agg.plot(kind='bar', y = 'mean', yerr = 'sem', legend=False, rot = 0)\n",
    "err_plot.set_xlabel('% MBP')\n",
    "err_plot.set_ylabel('Cost (ATP)')\n",
    "err_plot.set_ylim(0,4e7)"
   ]
  },
  {
   "cell_type": "code",
   "execution_count": null,
   "id": "76ffe4d1",
   "metadata": {
    "tags": []
   },
   "outputs": [],
   "source": [
    "# Histogram of MVF values\n",
    "plt.hist(MVF.flatten(), np.arange(0,0.75,0.05))\n",
    "plt.xlabel('MVF')\n",
    "plt.show()"
   ]
  },
  {
   "cell_type": "code",
   "execution_count": null,
   "id": "dea9cc39",
   "metadata": {
    "tags": []
   },
   "outputs": [],
   "source": [
    "# Scatter plot of g ratio / size / eccentricity and MVF\n",
    "size_norm = data[(data.gratio_peri_2 > 0.65) & (data.region == 'CST')].axon_diam_peri / np.linalg.norm(data[(data.gratio_peri_2 > 0.65) & (data.region == 'CST')].axon_diam_peri) * 600\n",
    "scatp = data[(data.gratio_peri_2 > 0.65) & (data.region == 'CST')].plot.scatter(x = 'mvf', y = 'cost', \n",
    "                                                                                c = colormap(norm(data.mbp[(data.gratio_peri_2 > 0.65) & (data.region == 'CST')])), \n",
    "                                                                                s = size_norm,\n",
    "                                                                                grid = False, xlim=(0.09,0.75), ylim = (2e6, 2e8),\n",
    "                                                                                alpha=0.75,\n",
    "                                                                                logy = True)\n",
    "scatp.set_xlabel('MVF')\n",
    "scatp.set_ylabel('Cost (ATP)')\n",
    "cbar = plt.colorbar(sm, shrink = 0.4, aspect = 15, label='% MBP', pad = 0.05)"
   ]
  },
  {
   "cell_type": "code",
   "execution_count": null,
   "id": "be8b6399",
   "metadata": {},
   "outputs": [],
   "source": [
    "data_nonan = data.copy()"
   ]
  },
  {
   "cell_type": "code",
   "execution_count": null,
   "id": "485694af",
   "metadata": {},
   "outputs": [],
   "source": [
    "data_nonan.dropna(inplace=True)\n",
    "model_cost_mvf = LinearRegression(fit_intercept=True)\n",
    "model_cost_mvf.fit(data_nonan[(data_nonan.gratio_peri_2 > 0.65) & (data_nonan.region == 'CST')].mvf.to_numpy().reshape(-1, 1),\n",
    "                   data_nonan[(data_nonan.gratio_peri_2 > 0.65) & (data_nonan.region == 'CST')].cost.to_numpy().reshape(-1, 1))  \n",
    "x_new = np.array([0.1, 0.7])\n",
    "y_new = model_cost_mvf.predict(x_new[:, np.newaxis])\n",
    "plt.plot(x_new, y_new, '--k')"
   ]
  },
  {
   "cell_type": "code",
   "execution_count": null,
   "id": "f61444cf",
   "metadata": {
    "tags": []
   },
   "outputs": [],
   "source": [
    "X = data_nonan[(data_nonan.gratio_peri_2 > 0.65) & (data_nonan.region == 'CST')].mvf.to_numpy().reshape(-1, 1)\n",
    "y = data_nonan[(data_nonan.gratio_peri_2 > 0.65) & (data_nonan.region == 'CST')].mvf.to_numpy().reshape(-1, 1)\n",
    "\n",
    "params = np.append(model_cost_mvf.intercept_,model_cost_mvf.coef_)\n",
    "predictions = model_cost_mvf.predict(X)\n",
    "\n",
    "newX = pd.DataFrame({\"Constant\":np.ones(len(X))}).join(pd.DataFrame(X))\n",
    "MSE = (sum((y-predictions)**2))/(len(newX)-len(newX.columns))\n",
    "\n",
    "var_b = MSE*(np.linalg.inv(np.dot(newX.T,newX)).diagonal())\n",
    "sd_b = np.sqrt(var_b)\n",
    "ts_b = params/ sd_b\n",
    "\n",
    "p_values = [2 * (1 - stats.t.cdf(np.abs(i), (len(newX) - len(newX.columns)))) for i in ts_b]\n",
    "\n",
    "sd_b = np.round(sd_b,3)\n",
    "ts_b = np.round(ts_b,3)\n",
    "p_values = np.round(p_values,3)\n",
    "params = np.round(params,4)\n",
    "\n",
    "myDF3 = pd.DataFrame()\n",
    "myDF3[\"Coefficients\"],myDF3[\"Standard Errors\"],myDF3[\"t values\"],myDF3[\"Probabilities\"] = [params,sd_b,ts_b,p_values]\n",
    "print(myDF3)"
   ]
  },
  {
   "cell_type": "markdown",
   "id": "0ead76a9",
   "metadata": {
    "tags": []
   },
   "source": [
    "### Parametric equation"
   ]
  },
  {
   "cell_type": "code",
   "execution_count": null,
   "id": "27547683",
   "metadata": {
    "tags": []
   },
   "outputs": [],
   "source": [
    "'''M3KOKI = np.array([16.378,    0.063544,    8.9238,    0.057326,    -0.043801,     -1.6952,     0.8127 ])\n",
    "WT = np.array([18.976,    0.044161,    5.1107,    0.084312,    -0.028903,     -2.1074,    0.79397])        # fitted parameters to CST WT P90\n",
    "M5KO = np.array([9.2902,      0.1056,    12.573,    0.043139,    -0.065818,      -1.113,    0.88727])\n",
    "M3KO = np.array([9.2902,      0.1056,    12.573,    0.043139,    -0.065818,      -1.113,    0.88727])        # fitted parameters to CST M3KO P90 data\n",
    "M3M5KO = np.array([17.505,    0.055422,    6.4961,    0.078674,    -0.14281,    -0.63832,    1])    # fitted parameters to CST M3M5KO P90 data\n",
    "M1EM3M5KO = np.array([19.376,    0.062918,    7.0841,     0.07029,      0.16095,      0.4082 ,   0.674])\n",
    "MVF = np.empty(11)\n",
    "AVF = np.empty(11)\n",
    "scale = 0.001196                                                                        # microns per pixel\n",
    "for j, p in enumerate(np.arange(0,1.1,0.1)):\n",
    "    p_vals = (M3M5KO - WT) * p + WT\n",
    "    sizes = np.random.gamma(p_vals[0], p_vals[1], 300)                            # (diameter / 2) * (pixels/micron) * 1/4 , since the bbox is 1/4 of the 4000x4000 EM image\n",
    "    eccs = 1 - np.random.gamma(WT[2], WT[3], 300)                                                       # b / a\n",
    "    grat_fun = lambda x: WT[4]* x ** WT[5] + WT[6]                                              # sizes - > gratios r / R\n",
    "    image = ellipse_sim2(300, sizes, eccs, grat_fun, scale)\n",
    "    pygame.quit()\n",
    "    AVF[j] = np.sum(image == 8421504) / (bbox_size ** 2)\n",
    "    MVF[j] = np.sum(image == 16777215) / (bbox_size ** 2)\n",
    "    plt.figure(figsize = (5,5), frameon = False)\n",
    "    plt.axes([0, 0, 1, 1])\n",
    "    plt.axis('off')\n",
    "    plt.imshow(image, cmap = 'gray', extent = [0, 1, 0, 1], interpolation = 'nearest', aspect = 'auto')\n",
    "    plt.show()\n",
    "    print(p * 100,'% M3M5KO done')\n",
    "    print('MVF:' ,MVF[j])'''"
   ]
  },
  {
   "cell_type": "code",
   "execution_count": null,
   "id": "4e89009a",
   "metadata": {
    "tags": []
   },
   "outputs": [],
   "source": [
    "# 3D plot\n",
    "'''plt.plot(MVF)\n",
    "fig = plt.figure(figsize = (10,10))\n",
    "ax = fig.add_subplot(projection='3d')\n",
    "ax.plot_surface(eccs, 1 - gratios, MVF,\n",
    "                 linewidth=0, antialiased=True)\n",
    "ax.set_xlabel('Eccentricity')\n",
    "ax.set_ylabel('G-ratio')\n",
    "ax.set_zlabel('MVF')\n",
    "ax.view_init(0, 30)'''"
   ]
  },
  {
   "cell_type": "code",
   "execution_count": null,
   "id": "d74aca73",
   "metadata": {
    "tags": []
   },
   "outputs": [],
   "source": [
    "#MVF1 = MVF\n",
    "#MVF2 = MVF\n",
    "#MVF3 = MVF\n",
    "#MVF4 = MVF\n",
    "#MVF5 = MVF\n",
    "#MVF6 = MVF"
   ]
  },
  {
   "cell_type": "code",
   "execution_count": null,
   "id": "07ecbad4",
   "metadata": {
    "tags": []
   },
   "outputs": [],
   "source": [
    "plt.figure(figsize=(15,10))\n",
    "plt.plot(range(55),np.concatenate((MVF1, MVF2, MVF3, MVF4, MVF5)))\n",
    "plt.plot(range(44,55), MVF6)\n",
    "plt.xlabel('Line')\n",
    "plt.xticks([0,10,21,32,43,54], ['M3KO;KI', 'WT', 'M5KO', 'M3KO', 'M3M5KO', 'M1EM3M5KO'])\n",
    "plt.ylabel('MVF')\n",
    "plt.grid(axis='x')"
   ]
  },
  {
   "cell_type": "code",
   "execution_count": null,
   "id": "d2420e9b",
   "metadata": {},
   "outputs": [],
   "source": [
    "np.unique(data.line)"
   ]
  },
  {
   "cell_type": "code",
   "execution_count": null,
   "id": "0e28f685",
   "metadata": {},
   "outputs": [],
   "source": [
    "data.columns"
   ]
  },
  {
   "cell_type": "code",
   "execution_count": null,
   "id": "4ced7164",
   "metadata": {},
   "outputs": [],
   "source": [
    "(np.histogram(1- data[(data.axon_diam_peri <2) & (data.region == 'CST') &  (data.line == 'WT')].ar),\n",
    "np.median(1- data[(data.axon_diam_peri <2) & (data.region == 'CST') &  (data.line == 'M3KO')].ar),\n",
    "np.median(1- data[(data.axon_diam_peri <2) & (data.region == 'CST') &  (data.line == 'M3M5KO')].ar))"
   ]
  },
  {
   "cell_type": "code",
   "execution_count": null,
   "id": "f3e92445",
   "metadata": {},
   "outputs": [],
   "source": [
    "vals ,bns = np.histogram(1- data[(data.axon_diam_peri <2) & (data.region == 'CST') &  (data.line == 'M3M5KO')].ar, edges)\n",
    "bns[np.argmax(vals)]"
   ]
  }
 ],
 "metadata": {
  "kernelspec": {
   "display_name": "Python 3 (ipykernel)",
   "language": "python",
   "name": "python3"
  },
  "language_info": {
   "codemirror_mode": {
    "name": "ipython",
    "version": 3
   },
   "file_extension": ".py",
   "mimetype": "text/x-python",
   "name": "python",
   "nbconvert_exporter": "python",
   "pygments_lexer": "ipython3",
   "version": "3.10.8"
  },
  "toc-autonumbering": false,
  "toc-showtags": false
 },
 "nbformat": 4,
 "nbformat_minor": 5
}
